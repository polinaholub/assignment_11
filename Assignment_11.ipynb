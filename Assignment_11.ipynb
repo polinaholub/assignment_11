{
 "cells": [
  {
   "cell_type": "markdown",
   "metadata": {},
   "source": [
    "Create a program that will ask user to search a word. Search this word in Giphy (use their API). Return links to these GIFs as a result"
   ]
  },
  {
   "cell_type": "code",
   "execution_count": 12,
   "metadata": {},
   "outputs": [
    {
     "name": "stdout",
     "output_type": "stream",
     "text": [
      "No GIFs found for the provided word.\n"
     ]
    }
   ],
   "source": [
    "import requests\n",
    "\n",
    "def search_giphy(query):\n",
    "    api_key = \"005YwB8I0ml3YNv267Pz02VS3ueR6PqI\"\n",
    "    base_url = \"http://api.giphy.com/v1/gifs/search\"\n",
    "    params = {\n",
    "        \"q\": query,\n",
    "        \"api_key\": api_key,\n",
    "        \"limit\": 5\n",
    "    }\n",
    "\n",
    "    response = requests.get(base_url, params=params)\n",
    "    data = response.json()\n",
    "\n",
    "    gif_links = [gif_data[\"images\"][\"original\"][\"url\"] for gif_data in data.get(\"data\", [])]\n",
    "    return gif_links\n",
    "\n",
    "search_word = input(\"Enter a word to search for GIFs: \")\n",
    "gif_links = search_giphy(search_word)\n",
    "\n",
    "if gif_links:\n",
    "    print(\"GIF Links:\")\n",
    "    for link in gif_links:\n",
    "        print(link)\n",
    "else:\n",
    "    print(\"No GIFs found for the provided word.\")"
   ]
  },
  {
   "cell_type": "markdown",
   "metadata": {},
   "source": [
    "Optional: Add the Telegram bot to the previous exercise. Ask the user to enter a search word in the Telegram interface and get a gif image as a result."
   ]
  },
  {
   "cell_type": "code",
   "execution_count": 1,
   "metadata": {},
   "outputs": [
    {
     "ename": "SyntaxError",
     "evalue": "incomplete input (94205682.py, line 49)",
     "output_type": "error",
     "traceback": [
      "\u001b[1;36m  Cell \u001b[1;32mIn[1], line 49\u001b[1;36m\u001b[0m\n\u001b[1;33m    main(\u001b[0m\n\u001b[1;37m         ^\u001b[0m\n\u001b[1;31mSyntaxError\u001b[0m\u001b[1;31m:\u001b[0m incomplete input\n"
     ]
    }
   ],
   "source": [
    "from telegram import Update\n",
    "from telegram.ext import Updater, CommandHandler, MessageHandler, Filters, CallbackContext\n",
    "import requests\n",
    "\n",
    "# Replace with your Giphy API key\n",
    "GIPHY_API_KEY = \"YOUR_GIPHY_API_KEY\"\n",
    "\n",
    "def start(update: Update, context: CallbackContext) -> None:\n",
    "    update.message.reply_text(\"Welcome to the GIF bot! Please send me a search word to find GIFs.\")\n",
    "\n",
    "def search_giphy(query):\n",
    "    base_url = \"http://api.giphy.com/v1/gifs/search\"\n",
    "    params = {\n",
    "        \"q\": query,\n",
    "        \"api_key\": GIPHY_API_KEY,\n",
    "        \"limit\": 5\n",
    "    }\n",
    "\n",
    "    response = requests.get(base_url, params=params)\n",
    "    data = response.json()\n",
    "\n",
    "    gif_links = [gif_data[\"images\"][\"original\"][\"url\"] for gif_data in data.get(\"data\", [])]\n",
    "    return gif_links\n",
    "\n",
    "def handle_message(update: Update, context: CallbackContext) -> None:\n",
    "    search_word = update.message.text\n",
    "    gif_links = search_giphy(search_word)\n",
    "\n",
    "    if gif_links:\n",
    "        for link in gif_links:\n",
    "            update.message.reply_document(document=link)\n",
    "    else:\n",
    "        update.message.reply_text(\"No GIFs found for the provided word.\")\n",
    "\n",
    "def main():\n",
    "    # Replace with your Telegram Bot API token\n",
    "    TELEGRAM_API_TOKEN = \"YOUR_TELEGRAM_API_TOKEN\"\n",
    "    \n",
    "    updater = Updater(token=TELEGRAM_API_TOKEN, use_context=True)\n",
    "    dispatcher = updater.dispatcher\n",
    "\n",
    "    dispatcher.add_handler(CommandHandler(\"start\", start))\n",
    "    dispatcher.add_handler(MessageHandler(Filters.text & ~Filters.command, handle_message))\n",
    "\n",
    "    updater.start_polling()\n",
    "    updater.idle()\n",
    "\n",
    "if __name__ == \"__main__\":\n",
    "    main("
   ]
  },
  {
   "cell_type": "code",
   "execution_count": 17,
   "metadata": {},
   "outputs": [
    {
     "ename": "RuntimeError",
     "evalue": "Cannot close a running event loop",
     "output_type": "error",
     "traceback": [
      "\u001b[1;31m---------------------------------------------------------------------------\u001b[0m",
      "\u001b[1;31mRuntimeError\u001b[0m                              Traceback (most recent call last)",
      "File \u001b[1;32mc:\\Users\\polin\\AppData\\Local\\Programs\\Python\\Python311\\Lib\\site-packages\\telegram\\ext\\_application.py:946\u001b[0m, in \u001b[0;36mApplication.__run\u001b[1;34m(self, updater_coroutine, stop_signals, close_loop)\u001b[0m\n\u001b[0;32m    945\u001b[0m     updater_coroutine\u001b[39m.\u001b[39mclose()\n\u001b[1;32m--> 946\u001b[0m     \u001b[39mraise\u001b[39;00m exc\n\u001b[0;32m    947\u001b[0m \u001b[39mfinally\u001b[39;00m:\n\u001b[0;32m    948\u001b[0m     \u001b[39m# We arrive here either by catching the exceptions above or if the loop gets stopped\u001b[39;00m\n",
      "File \u001b[1;32mc:\\Users\\polin\\AppData\\Local\\Programs\\Python\\Python311\\Lib\\site-packages\\telegram\\ext\\_application.py:935\u001b[0m, in \u001b[0;36mApplication.__run\u001b[1;34m(self, updater_coroutine, stop_signals, close_loop)\u001b[0m\n\u001b[0;32m    934\u001b[0m \u001b[39mtry\u001b[39;00m:\n\u001b[1;32m--> 935\u001b[0m     loop\u001b[39m.\u001b[39;49mrun_until_complete(\u001b[39mself\u001b[39;49m\u001b[39m.\u001b[39;49minitialize())\n\u001b[0;32m    936\u001b[0m     \u001b[39mif\u001b[39;00m \u001b[39mself\u001b[39m\u001b[39m.\u001b[39mpost_init:\n",
      "File \u001b[1;32mc:\\Users\\polin\\AppData\\Local\\Programs\\Python\\Python311\\Lib\\asyncio\\base_events.py:629\u001b[0m, in \u001b[0;36mBaseEventLoop.run_until_complete\u001b[1;34m(self, future)\u001b[0m\n\u001b[0;32m    628\u001b[0m \u001b[39mself\u001b[39m\u001b[39m.\u001b[39m_check_closed()\n\u001b[1;32m--> 629\u001b[0m \u001b[39mself\u001b[39;49m\u001b[39m.\u001b[39;49m_check_running()\n\u001b[0;32m    631\u001b[0m new_task \u001b[39m=\u001b[39m \u001b[39mnot\u001b[39;00m futures\u001b[39m.\u001b[39misfuture(future)\n",
      "File \u001b[1;32mc:\\Users\\polin\\AppData\\Local\\Programs\\Python\\Python311\\Lib\\asyncio\\base_events.py:588\u001b[0m, in \u001b[0;36mBaseEventLoop._check_running\u001b[1;34m(self)\u001b[0m\n\u001b[0;32m    587\u001b[0m \u001b[39mif\u001b[39;00m \u001b[39mself\u001b[39m\u001b[39m.\u001b[39mis_running():\n\u001b[1;32m--> 588\u001b[0m     \u001b[39mraise\u001b[39;00m \u001b[39mRuntimeError\u001b[39;00m(\u001b[39m'\u001b[39m\u001b[39mThis event loop is already running\u001b[39m\u001b[39m'\u001b[39m)\n\u001b[0;32m    589\u001b[0m \u001b[39mif\u001b[39;00m events\u001b[39m.\u001b[39m_get_running_loop() \u001b[39mis\u001b[39;00m \u001b[39mnot\u001b[39;00m \u001b[39mNone\u001b[39;00m:\n",
      "\u001b[1;31mRuntimeError\u001b[0m: This event loop is already running",
      "\nDuring handling of the above exception, another exception occurred:\n",
      "\u001b[1;31mRuntimeError\u001b[0m                              Traceback (most recent call last)",
      "File \u001b[1;32mc:\\Users\\polin\\AppData\\Local\\Programs\\Python\\Python311\\Lib\\site-packages\\telegram\\ext\\_application.py:957\u001b[0m, in \u001b[0;36mApplication.__run\u001b[1;34m(self, updater_coroutine, stop_signals, close_loop)\u001b[0m\n\u001b[0;32m    956\u001b[0m     loop\u001b[39m.\u001b[39mrun_until_complete(\u001b[39mself\u001b[39m\u001b[39m.\u001b[39mpost_stop(\u001b[39mself\u001b[39m))\n\u001b[1;32m--> 957\u001b[0m loop\u001b[39m.\u001b[39;49mrun_until_complete(\u001b[39mself\u001b[39;49m\u001b[39m.\u001b[39;49mshutdown())\n\u001b[0;32m    958\u001b[0m \u001b[39mif\u001b[39;00m \u001b[39mself\u001b[39m\u001b[39m.\u001b[39mpost_shutdown:\n",
      "File \u001b[1;32mc:\\Users\\polin\\AppData\\Local\\Programs\\Python\\Python311\\Lib\\asyncio\\base_events.py:629\u001b[0m, in \u001b[0;36mBaseEventLoop.run_until_complete\u001b[1;34m(self, future)\u001b[0m\n\u001b[0;32m    628\u001b[0m \u001b[39mself\u001b[39m\u001b[39m.\u001b[39m_check_closed()\n\u001b[1;32m--> 629\u001b[0m \u001b[39mself\u001b[39;49m\u001b[39m.\u001b[39;49m_check_running()\n\u001b[0;32m    631\u001b[0m new_task \u001b[39m=\u001b[39m \u001b[39mnot\u001b[39;00m futures\u001b[39m.\u001b[39misfuture(future)\n",
      "File \u001b[1;32mc:\\Users\\polin\\AppData\\Local\\Programs\\Python\\Python311\\Lib\\asyncio\\base_events.py:588\u001b[0m, in \u001b[0;36mBaseEventLoop._check_running\u001b[1;34m(self)\u001b[0m\n\u001b[0;32m    587\u001b[0m \u001b[39mif\u001b[39;00m \u001b[39mself\u001b[39m\u001b[39m.\u001b[39mis_running():\n\u001b[1;32m--> 588\u001b[0m     \u001b[39mraise\u001b[39;00m \u001b[39mRuntimeError\u001b[39;00m(\u001b[39m'\u001b[39m\u001b[39mThis event loop is already running\u001b[39m\u001b[39m'\u001b[39m)\n\u001b[0;32m    589\u001b[0m \u001b[39mif\u001b[39;00m events\u001b[39m.\u001b[39m_get_running_loop() \u001b[39mis\u001b[39;00m \u001b[39mnot\u001b[39;00m \u001b[39mNone\u001b[39;00m:\n",
      "\u001b[1;31mRuntimeError\u001b[0m: This event loop is already running",
      "\nDuring handling of the above exception, another exception occurred:\n",
      "\u001b[1;31mRuntimeError\u001b[0m                              Traceback (most recent call last)",
      "Cell \u001b[1;32mIn[17], line 37\u001b[0m\n\u001b[0;32m     33\u001b[0m     app\u001b[39m.\u001b[39madd_handler(MessageHandler(filters\u001b[39m.\u001b[39mText, handle_message))\n\u001b[0;32m     35\u001b[0m     app\u001b[39m.\u001b[39madd_error_handler(error)\n\u001b[1;32m---> 37\u001b[0m     app\u001b[39m.\u001b[39;49mrun_polling()\n\u001b[0;32m     40\u001b[0m \u001b[39mdef\u001b[39;00m \u001b[39msearch_giphy\u001b[39m(query):\n\u001b[0;32m     41\u001b[0m     api_key \u001b[39m=\u001b[39m \u001b[39m\"\u001b[39m\u001b[39m005YwB8I0ml3YNv267Pz02VS3ueR6PqI\u001b[39m\u001b[39m\"\u001b[39m\n",
      "File \u001b[1;32mc:\\Users\\polin\\AppData\\Local\\Programs\\Python\\Python311\\Lib\\site-packages\\telegram\\ext\\_application.py:752\u001b[0m, in \u001b[0;36mApplication.run_polling\u001b[1;34m(self, poll_interval, timeout, bootstrap_retries, read_timeout, write_timeout, connect_timeout, pool_timeout, allowed_updates, drop_pending_updates, close_loop, stop_signals)\u001b[0m\n\u001b[0;32m    749\u001b[0m \u001b[39mdef\u001b[39;00m \u001b[39merror_callback\u001b[39m(exc: TelegramError) \u001b[39m-\u001b[39m\u001b[39m>\u001b[39m \u001b[39mNone\u001b[39;00m:\n\u001b[0;32m    750\u001b[0m     \u001b[39mself\u001b[39m\u001b[39m.\u001b[39mcreate_task(\u001b[39mself\u001b[39m\u001b[39m.\u001b[39mprocess_error(error\u001b[39m=\u001b[39mexc, update\u001b[39m=\u001b[39m\u001b[39mNone\u001b[39;00m))\n\u001b[1;32m--> 752\u001b[0m \u001b[39mreturn\u001b[39;00m \u001b[39mself\u001b[39;49m\u001b[39m.\u001b[39;49m__run(\n\u001b[0;32m    753\u001b[0m     updater_coroutine\u001b[39m=\u001b[39;49m\u001b[39mself\u001b[39;49m\u001b[39m.\u001b[39;49mupdater\u001b[39m.\u001b[39;49mstart_polling(\n\u001b[0;32m    754\u001b[0m         poll_interval\u001b[39m=\u001b[39;49mpoll_interval,\n\u001b[0;32m    755\u001b[0m         timeout\u001b[39m=\u001b[39;49mtimeout,\n\u001b[0;32m    756\u001b[0m         bootstrap_retries\u001b[39m=\u001b[39;49mbootstrap_retries,\n\u001b[0;32m    757\u001b[0m         read_timeout\u001b[39m=\u001b[39;49mread_timeout,\n\u001b[0;32m    758\u001b[0m         write_timeout\u001b[39m=\u001b[39;49mwrite_timeout,\n\u001b[0;32m    759\u001b[0m         connect_timeout\u001b[39m=\u001b[39;49mconnect_timeout,\n\u001b[0;32m    760\u001b[0m         pool_timeout\u001b[39m=\u001b[39;49mpool_timeout,\n\u001b[0;32m    761\u001b[0m         allowed_updates\u001b[39m=\u001b[39;49mallowed_updates,\n\u001b[0;32m    762\u001b[0m         drop_pending_updates\u001b[39m=\u001b[39;49mdrop_pending_updates,\n\u001b[0;32m    763\u001b[0m         error_callback\u001b[39m=\u001b[39;49merror_callback,  \u001b[39m# if there is an error in fetching updates\u001b[39;49;00m\n\u001b[0;32m    764\u001b[0m     ),\n\u001b[0;32m    765\u001b[0m     close_loop\u001b[39m=\u001b[39;49mclose_loop,\n\u001b[0;32m    766\u001b[0m     stop_signals\u001b[39m=\u001b[39;49mstop_signals,\n\u001b[0;32m    767\u001b[0m )\n",
      "File \u001b[1;32mc:\\Users\\polin\\AppData\\Local\\Programs\\Python\\Python311\\Lib\\site-packages\\telegram\\ext\\_application.py:962\u001b[0m, in \u001b[0;36mApplication.__run\u001b[1;34m(self, updater_coroutine, stop_signals, close_loop)\u001b[0m\n\u001b[0;32m    960\u001b[0m \u001b[39mfinally\u001b[39;00m:\n\u001b[0;32m    961\u001b[0m     \u001b[39mif\u001b[39;00m close_loop:\n\u001b[1;32m--> 962\u001b[0m         loop\u001b[39m.\u001b[39;49mclose()\n",
      "File \u001b[1;32mc:\\Users\\polin\\AppData\\Local\\Programs\\Python\\Python311\\Lib\\asyncio\\selector_events.py:88\u001b[0m, in \u001b[0;36mBaseSelectorEventLoop.close\u001b[1;34m(self)\u001b[0m\n\u001b[0;32m     86\u001b[0m \u001b[39mdef\u001b[39;00m \u001b[39mclose\u001b[39m(\u001b[39mself\u001b[39m):\n\u001b[0;32m     87\u001b[0m     \u001b[39mif\u001b[39;00m \u001b[39mself\u001b[39m\u001b[39m.\u001b[39mis_running():\n\u001b[1;32m---> 88\u001b[0m         \u001b[39mraise\u001b[39;00m \u001b[39mRuntimeError\u001b[39;00m(\u001b[39m\"\u001b[39m\u001b[39mCannot close a running event loop\u001b[39m\u001b[39m\"\u001b[39m)\n\u001b[0;32m     89\u001b[0m     \u001b[39mif\u001b[39;00m \u001b[39mself\u001b[39m\u001b[39m.\u001b[39mis_closed():\n\u001b[0;32m     90\u001b[0m         \u001b[39mreturn\u001b[39;00m\n",
      "\u001b[1;31mRuntimeError\u001b[0m: Cannot close a running event loop"
     ]
    }
   ],
   "source": [
    "import requests\n",
    "from typing import Final\n",
    "from telegram import Update\n",
    "from telegram.ext import Application, CommandHandler, MessageHandler, filters, ContextTypes\n",
    "\n",
    "TOKEN = '6048894366:AAElaAWi4GbMFBWuFnuU2ExzA2qlAK8DDtE'\n",
    "BOT_USERNAME: Final = '@gif_gifs_bot'\n",
    "\n",
    "#Commands\n",
    "\n",
    "async def start_command(update: Update, context: ContextTypes, DEFAULT_TYPE):\n",
    "    await update.message.reply_text('Hello!')\n",
    "\n",
    "async def help_command(update: Update, context: ContextTypes, DEFAULT_TYPE):\n",
    "    await update.message.reply_text('I am GIF bot. Please typr the word and I will try to find the best gifs for you!')\n",
    "\n",
    "async def handle_message(update: Update, context: ContextTypes.DEFAULT_TYPE):\n",
    "    message_type: str = update.message.chat.type\n",
    "    text: str = update.message.text\n",
    "\n",
    "    print(f'User ({update.message.chat.id}) in {message_type}: \"{type}\"')\n",
    "\n",
    "async def error(update: Update, context: ContextTypes.DEFAULT_TYPE):\n",
    "    print('Update {update} caused error {context.error}')\n",
    "\n",
    "if __name__ =='__main__':\n",
    "    app = Application.builder().token(TOKEN).build()\n",
    "\n",
    "    app.add_handler(CommandHandler('start', start_command))\n",
    "    app.add_handler(CommandHandler('help', help_command))\n",
    "\n",
    "\n",
    "    app.add_handler(MessageHandler(filters.Text, handle_message))\n",
    "\n",
    "    app.add_error_handler(error)\n",
    "\n",
    "    app.run_polling()\n",
    "\n",
    "\n",
    "def search_giphy(query):\n",
    "    api_key = \"005YwB8I0ml3YNv267Pz02VS3ueR6PqI\"\n",
    "    base_url = \"http://api.giphy.com/v1/gifs/search\"\n",
    "    params = {\n",
    "        \"q\": query,\n",
    "        \"api_key\": api_key,\n",
    "        \"limit\": 5\n",
    "    }\n",
    "\n",
    "    response = requests.get(base_url, params=params)\n",
    "    data = response.json()\n",
    "\n",
    "    gif_links = [gif_data[\"images\"][\"original\"][\"url\"] for gif_data in data.get(\"data\", [])]\n",
    "    return gif_links\n",
    "\n",
    "search_word = input(\"Enter a word to search for GIFs: \")\n",
    "gif_links = search_giphy(search_word)\n",
    "\n",
    "if gif_links:\n",
    "    print(\"GIF Links:\")\n",
    "    for link in gif_links:\n",
    "        print(link)\n",
    "else:\n",
    "    print(\"No GIFs found for the provided word.\")\n",
    "\n",
    "\n"
   ]
  }
 ],
 "metadata": {
  "kernelspec": {
   "display_name": "Python 3",
   "language": "python",
   "name": "python3"
  },
  "language_info": {
   "codemirror_mode": {
    "name": "ipython",
    "version": 3
   },
   "file_extension": ".py",
   "mimetype": "text/x-python",
   "name": "python",
   "nbconvert_exporter": "python",
   "pygments_lexer": "ipython3",
   "version": "3.11.4"
  },
  "orig_nbformat": 4
 },
 "nbformat": 4,
 "nbformat_minor": 2
}
